{
  "nbformat": 4,
  "nbformat_minor": 0,
  "metadata": {
    "kernelspec": {
      "display_name": "Python 3",
      "language": "python",
      "name": "python3"
    },
    "language_info": {
      "codemirror_mode": {
        "name": "ipython",
        "version": 3
      },
      "file_extension": ".py",
      "mimetype": "text/x-python",
      "name": "python",
      "nbconvert_exporter": "python",
      "pygments_lexer": "ipython3",
      "version": "3.7.4"
    },
    "colab": {
      "name": "codes-for-machine-learning-4.ipynb",
      "provenance": [],
      "collapsed_sections": []
    }
  },
  "cells": [
    {
      "cell_type": "code",
      "metadata": {
        "id": "-MCB7aoB-38S",
        "colab_type": "code",
        "colab": {}
      },
      "source": [
        "import keras\n",
        "import numpy as np\n",
        "import matplotlib.pyplot as plt"
      ],
      "execution_count": null,
      "outputs": []
    },
    {
      "cell_type": "markdown",
      "metadata": {
        "id": "1Qpv6iNC-38V",
        "colab_type": "text"
      },
      "source": [
        "## Load MNIST data\n",
        "\n",
        "MNIST 数据集(Mixed National Institute of Standards and Technology database) 是美国国家标准与技术研究院收集整理的大型手写数字数据库，包含 60,000 个示例的训练集以及 10,000 个示例的测试集。\n",
        "\n",
        "![image.png](attachment:image.png)"
      ]
    },
    {
      "cell_type": "code",
      "metadata": {
        "id": "AoOBdl4M-38W",
        "colab_type": "code",
        "colab": {}
      },
      "source": [
        "# MNIST 是非常基础的 ML 数据集，Keras 中有已经帮我们处理好的 MNIST\n",
        "from keras.datasets import mnist\n",
        "\n",
        "# 我们可以直接从 Keras 中加载已经处理好的 MNIST 数据集\n",
        "(x_train, y_train), (x_test, y_test) = mnist.load_data()\n",
        "\n",
        "# 检查 training data 和 test data 中 feature 和 label 的数量\n",
        "# 在这个 task 中，我们有 28x28 个 feature，表示的是每张图片（大小为 28x28）\n",
        "# 中每个 pixel 里的数据（灰度，数字越大颜色越浅，0 表示黑色，255 表示白色）\n",
        "print(f\"Training features: {x_train.shape}\")\n",
        "print(f\"Training labels: {y_train.shape}\")\n",
        "print(f\"Testing features: {x_test.shape}\")\n",
        "print(f\"Testing labels: {y_test.shape}\")"
      ],
      "execution_count": null,
      "outputs": []
    },
    {
      "cell_type": "markdown",
      "metadata": {
        "id": "p5gVEDue_BKS",
        "colab_type": "text"
      },
      "source": [
        "每一个 entry 是一张图片，图片用 numpy array 存储。每张图片是 28 * 28 的大小，每个值表示的是该坐标上的灰度值（0 为黑色，255 为白色）"
      ]
    },
    {
      "cell_type": "code",
      "metadata": {
        "id": "ezjToAvJ_D9q",
        "colab_type": "code",
        "colab": {}
      },
      "source": [
        "# 把 numpy 显示时的最大行宽调大，保证同一行的数据在屏幕的一行里全部显示出来\n",
        "np.set_printoptions(linewidth=150)\n",
        "# 随便显示一个 entry 给大家一个 input data 样子的概念\n",
        "print(x_train[0])"
      ],
      "execution_count": null,
      "outputs": []
    },
    {
      "cell_type": "code",
      "metadata": {
        "id": "x6E9O3YG_Dcj",
        "colab_type": "code",
        "colab": {}
      },
      "source": [
        ""
      ],
      "execution_count": null,
      "outputs": []
    }
  ]
}