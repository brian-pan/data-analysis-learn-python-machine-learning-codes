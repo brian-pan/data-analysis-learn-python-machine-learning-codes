{
  "nbformat": 4,
  "nbformat_minor": 0,
  "metadata": {
    "kernelspec": {
      "display_name": "Python 3",
      "language": "python",
      "name": "python3"
    },
    "language_info": {
      "codemirror_mode": {
        "name": "ipython",
        "version": 3
      },
      "file_extension": ".py",
      "mimetype": "text/x-python",
      "name": "python",
      "nbconvert_exporter": "python",
      "pygments_lexer": "ipython3",
      "version": "3.7.4"
    },
    "colab": {
      "name": "codes-for-machine-learning-4.ipynb",
      "provenance": [],
      "collapsed_sections": []
    }
  },
  "cells": [
    {
      "cell_type": "code",
      "metadata": {
        "id": "-MCB7aoB-38S",
        "colab_type": "code",
        "colab": {}
      },
      "source": [
        "import keras\n",
        "import numpy as np\n",
        "import matplotlib.pyplot as plt"
      ],
      "execution_count": 1,
      "outputs": []
    },
    {
      "cell_type": "markdown",
      "metadata": {
        "id": "1Qpv6iNC-38V",
        "colab_type": "text"
      },
      "source": [
        "## Load MNIST data\n",
        "\n",
        "MNIST 数据集(Mixed National Institute of Standards and Technology database) 是美国国家标准与技术研究院收集整理的大型手写数字数据库，包含 60,000 个示例的训练集以及 10,000 个示例的测试集。\n",
        "\n",
        "![image.png](attachment:image.png)"
      ]
    },
    {
      "cell_type": "code",
      "metadata": {
        "id": "AoOBdl4M-38W",
        "colab_type": "code",
        "colab": {
          "base_uri": "https://localhost:8080/",
          "height": 85
        },
        "outputId": "82e4b80e-bf99-4d10-aca3-9d89d5d92fe4"
      },
      "source": [
        "# MNIST 是非常基础的 ML 数据集，Keras 中有已经帮我们处理好的 MNIST\n",
        "from keras.datasets import mnist\n",
        "\n",
        "# 我们可以直接从 Keras 中加载已经处理好的 MNIST 数据集\n",
        "(x_train, y_train), (x_test, y_test) = mnist.load_data()\n",
        "\n",
        "# 检查 training data 和 test data 中 feature 和 label 的数量\n",
        "# 在这个 task 中，我们有 28x28 个 feature，表示的是每张图片（大小为 28x28）\n",
        "# 中每个 pixel 里的数据（灰度，数字越大颜色越浅，0 表示黑色，255 表示白色）\n",
        "print(f\"Training features: {x_train.shape}\")\n",
        "print(f\"Training labels: {y_train.shape}\")\n",
        "print(f\"Testing features: {x_test.shape}\")\n",
        "print(f\"Testing labels: {y_test.shape}\")"
      ],
      "execution_count": 2,
      "outputs": [
        {
          "output_type": "stream",
          "text": [
            "Training features: (60000, 28, 28)\n",
            "Training labels: (60000,)\n",
            "Testing features: (10000, 28, 28)\n",
            "Testing labels: (10000,)\n"
          ],
          "name": "stdout"
        }
      ]
    },
    {
      "cell_type": "markdown",
      "metadata": {
        "id": "p5gVEDue_BKS",
        "colab_type": "text"
      },
      "source": [
        "每一个 entry 是一张图片，图片用 numpy array 存储。每张图片是 28 * 28 的大小，每个值表示的是该坐标上的灰度值（0 为黑色，255 为白色）"
      ]
    },
    {
      "cell_type": "code",
      "metadata": {
        "id": "ezjToAvJ_D9q",
        "colab_type": "code",
        "colab": {
          "base_uri": "https://localhost:8080/",
          "height": 493
        },
        "outputId": "7ea4b2b9-5578-440f-800e-4bde71fdf746"
      },
      "source": [
        "# 把 numpy 显示时的最大行宽调大，保证同一行的数据在屏幕的一行里全部显示出来\n",
        "np.set_printoptions(linewidth=150)\n",
        "# 随便显示一个 entry 给大家一个 input data 样子的概念\n",
        "print(x_train[0])"
      ],
      "execution_count": 3,
      "outputs": [
        {
          "output_type": "stream",
          "text": [
            "[[  0   0   0   0   0   0   0   0   0   0   0   0   0   0   0   0   0   0   0   0   0   0   0   0   0   0   0   0]\n",
            " [  0   0   0   0   0   0   0   0   0   0   0   0   0   0   0   0   0   0   0   0   0   0   0   0   0   0   0   0]\n",
            " [  0   0   0   0   0   0   0   0   0   0   0   0   0   0   0   0   0   0   0   0   0   0   0   0   0   0   0   0]\n",
            " [  0   0   0   0   0   0   0   0   0   0   0   0   0   0   0   0   0   0   0   0   0   0   0   0   0   0   0   0]\n",
            " [  0   0   0   0   0   0   0   0   0   0   0   0   0   0   0   0   0   0   0   0   0   0   0   0   0   0   0   0]\n",
            " [  0   0   0   0   0   0   0   0   0   0   0   0   3  18  18  18 126 136 175  26 166 255 247 127   0   0   0   0]\n",
            " [  0   0   0   0   0   0   0   0  30  36  94 154 170 253 253 253 253 253 225 172 253 242 195  64   0   0   0   0]\n",
            " [  0   0   0   0   0   0   0  49 238 253 253 253 253 253 253 253 253 251  93  82  82  56  39   0   0   0   0   0]\n",
            " [  0   0   0   0   0   0   0  18 219 253 253 253 253 253 198 182 247 241   0   0   0   0   0   0   0   0   0   0]\n",
            " [  0   0   0   0   0   0   0   0  80 156 107 253 253 205  11   0  43 154   0   0   0   0   0   0   0   0   0   0]\n",
            " [  0   0   0   0   0   0   0   0   0  14   1 154 253  90   0   0   0   0   0   0   0   0   0   0   0   0   0   0]\n",
            " [  0   0   0   0   0   0   0   0   0   0   0 139 253 190   2   0   0   0   0   0   0   0   0   0   0   0   0   0]\n",
            " [  0   0   0   0   0   0   0   0   0   0   0  11 190 253  70   0   0   0   0   0   0   0   0   0   0   0   0   0]\n",
            " [  0   0   0   0   0   0   0   0   0   0   0   0  35 241 225 160 108   1   0   0   0   0   0   0   0   0   0   0]\n",
            " [  0   0   0   0   0   0   0   0   0   0   0   0   0  81 240 253 253 119  25   0   0   0   0   0   0   0   0   0]\n",
            " [  0   0   0   0   0   0   0   0   0   0   0   0   0   0  45 186 253 253 150  27   0   0   0   0   0   0   0   0]\n",
            " [  0   0   0   0   0   0   0   0   0   0   0   0   0   0   0  16  93 252 253 187   0   0   0   0   0   0   0   0]\n",
            " [  0   0   0   0   0   0   0   0   0   0   0   0   0   0   0   0   0 249 253 249  64   0   0   0   0   0   0   0]\n",
            " [  0   0   0   0   0   0   0   0   0   0   0   0   0   0  46 130 183 253 253 207   2   0   0   0   0   0   0   0]\n",
            " [  0   0   0   0   0   0   0   0   0   0   0   0  39 148 229 253 253 253 250 182   0   0   0   0   0   0   0   0]\n",
            " [  0   0   0   0   0   0   0   0   0   0  24 114 221 253 253 253 253 201  78   0   0   0   0   0   0   0   0   0]\n",
            " [  0   0   0   0   0   0   0   0  23  66 213 253 253 253 253 198  81   2   0   0   0   0   0   0   0   0   0   0]\n",
            " [  0   0   0   0   0   0  18 171 219 253 253 253 253 195  80   9   0   0   0   0   0   0   0   0   0   0   0   0]\n",
            " [  0   0   0   0  55 172 226 253 253 253 253 244 133  11   0   0   0   0   0   0   0   0   0   0   0   0   0   0]\n",
            " [  0   0   0   0 136 253 253 253 212 135 132  16   0   0   0   0   0   0   0   0   0   0   0   0   0   0   0   0]\n",
            " [  0   0   0   0   0   0   0   0   0   0   0   0   0   0   0   0   0   0   0   0   0   0   0   0   0   0   0   0]\n",
            " [  0   0   0   0   0   0   0   0   0   0   0   0   0   0   0   0   0   0   0   0   0   0   0   0   0   0   0   0]\n",
            " [  0   0   0   0   0   0   0   0   0   0   0   0   0   0   0   0   0   0   0   0   0   0   0   0   0   0   0   0]]\n"
          ],
          "name": "stdout"
        }
      ]
    },
    {
      "cell_type": "code",
      "metadata": {
        "id": "x6E9O3YG_Dcj",
        "colab_type": "code",
        "colab": {
          "base_uri": "https://localhost:8080/",
          "height": 265
        },
        "outputId": "65534cd4-e809-43dc-afc3-ac1bfe5d6ee9"
      },
      "source": [
        "# 用图像的方式来显示数据会更直观\n",
        "# imshow 表示将某个矩阵转成图片，矩阵中的数字表示颜色的深浅\n",
        "# cmap=gray 指的是上色方案是灰度方案\n",
        "plt.imshow(x_train[0], cmap='gray') # training 里的第0个数字\n",
        "# 显示图像\n",
        "plt.show()"
      ],
      "execution_count": 4,
      "outputs": [
        {
          "output_type": "display_data",
          "data": {
            "image/png": "[encoded data removed]",
            "text/plain": [
              "<Figure size 432x288 with 1 Axes>"
            ]
          },
          "metadata": {
            "tags": [],
            "needs_background": "light"
          }
        }
      ]
    },
    {
      "cell_type": "markdown",
      "metadata": {
        "id": "7Xb1sa6JA6bd",
        "colab_type": "text"
      },
      "source": [
        "Label 是正确的数字是几"
      ]
    },
    {
      "cell_type": "code",
      "metadata": {
        "id": "qyQAUk6CA6Cm",
        "colab_type": "code",
        "colab": {
          "base_uri": "https://localhost:8080/",
          "height": 34
        },
        "outputId": "40c80903-8daa-4afb-d22f-a886a056361b"
      },
      "source": [
        "# 显示这个 sample 所对应的 label\n",
        "print(y_train[0])"
      ],
      "execution_count": 5,
      "outputs": [
        {
          "output_type": "stream",
          "text": [
            "5\n"
          ],
          "name": "stdout"
        }
      ]
    },
    {
      "cell_type": "markdown",
      "metadata": {
        "id": "77Eqhe0W-xv6",
        "colab_type": "text"
      },
      "source": [
        "# 用 Keras 建立一个 Feed-forward Model"
      ]
    },
    {
      "cell_type": "code",
      "metadata": {
        "id": "uc03P63v-xv6",
        "colab_type": "code",
        "colab": {}
      },
      "source": [
        "# 基本上平时会用到的 model 都是一个有顺序的模型，所以用 Sequential\n",
        "# 现在这个 model 是一个空的模型，需要我们往里面添加各个 layer\n",
        "model = keras.models.Sequential() #只会从1-2层 2-3层...这个顺序走"
      ],
      "execution_count": 6,
      "outputs": []
    },
    {
      "cell_type": "markdown",
      "metadata": {
        "id": "3TAQhwaW-xv8",
        "colab_type": "text"
      },
      "source": [
        "# 往 Model 中添加 layer\n",
        "\n",
        "Keras 支持多种不同的 layer\n",
        "+ fully-connected basic layer.\n",
        "\n",
        "```\n",
        "keras.layers.Dense(units, activation=None, use_bias=True, kernel_initializer='glorot_uniform', bias_initializer='zeros', kernel_regularizer=None, bias_regularizer=None, activity_regularizer=None, kernel_constraint=None, bias_constraint=None)\n",
        "```\n",
        "\n",
        "+ Activation: Applies an activation function to an output.\n",
        "\n",
        "```\n",
        "keras.layers.Activation(activation)\n",
        "```\n",
        "\n",
        "+ Activation: Applies an activation function to an output.\n",
        "\n",
        "```\n",
        "keras.layers.Activation(activation)\n",
        "```\n",
        "\n",
        "+ Flatten: Flattens the input. #把所有数据变成vector不管几维度\n",
        "\n",
        "```\n",
        "keras.layers.Flatten(data_format=None)\n",
        "```\n",
        "\n",
        "+ Reshape: Reshapes an output to a certain shape. #相反于faltten\n",
        "\n",
        "```\n",
        "keras.layers.Reshape(target_shape)\n",
        "```\n",
        "\n",
        "+ And more ..."
      ]
    },
    {
      "cell_type": "code",
      "metadata": {
        "id": "H2xdjpVR-xv8",
        "colab_type": "code",
        "colab": {}
      },
      "source": [
        "# 第一层一定要记得写 input_shape 这个 argument，表示的是我们的 input data 是什么样子的\n",
        "# name 只是给人类看的，便于标记的一个名字\n",
        "# 现在这个模型共有 2 个 hidden layer 和一个 output layer\n",
        "model.add(keras.layers.Flatten(input_shape=x_train[0].shape, name='Flat_input'))\n",
        "model.add(keras.layers.Dense(50, activation='relu', name='Hidden_1')) ### 要学的东西不复杂：浅 activation fn只有一种两种 较少 training难度小\n",
        "model.add(keras.layers.Dense(50, activation='relu', name='Hidden_2'))\n",
        "\n",
        "### model.add(keras.layers.Dense(20, activation='relu', name='Hidden_1')) ###加多层数：深 反之 越容易学习比较复杂的逻辑关系 看自己选\n",
        "### model.add(keras.layers.Dense(20, activation='relu', name='Hidden_2')) ### 一定要控制好最后的parameter的数量\n",
        "### model.add(keras.layers.Dense(20, activation='relu', name='Hidden_3'))\n",
        "### model.add(keras.layers.Dense(20, activation='relu', name='Hidden_4'))\n",
        "### model.add(keras.layers.Dense(20, activation='relu', name='Hidden_5'))\n",
        "\n",
        "model.add(keras.layers.Dense(10, activation='softmax', name='Output')) #写在最后最后一层"
      ],
      "execution_count": 7,
      "outputs": []
    },
    {
      "cell_type": "code",
      "metadata": {
        "id": "1-4amC6TBqYx",
        "colab_type": "code",
        "colab": {
          "base_uri": "https://localhost:8080/",
          "height": 289
        },
        "outputId": "1eeba72f-74b7-457c-e575-53a1f548369a"
      },
      "source": [
        "# 在屏幕上输出现在我们的模型的结构\n",
        "model.summary()"
      ],
      "execution_count": 8,
      "outputs": [
        {
          "output_type": "stream",
          "text": [
            "Model: \"sequential\"\n",
            "_________________________________________________________________\n",
            "Layer (type)                 Output Shape              Param #   \n",
            "=================================================================\n",
            "Flat_input (Flatten)         (None, 784)               0         \n",
            "_________________________________________________________________\n",
            "Hidden_1 (Dense)             (None, 50)                39250     \n",
            "_________________________________________________________________\n",
            "Hidden_2 (Dense)             (None, 50)                2550      \n",
            "_________________________________________________________________\n",
            "Output (Dense)               (None, 10)                510       \n",
            "=================================================================\n",
            "Total params: 42,310\n",
            "Trainable params: 42,310\n",
            "Non-trainable params: 0\n",
            "_________________________________________________________________\n"
          ],
          "name": "stdout"
        }
      ]
    },
    {
      "cell_type": "markdown",
      "metadata": {
        "id": "HUFDC5t0-xwB",
        "colab_type": "text"
      },
      "source": [
        "# Train the model"
      ]
    },
    {
      "cell_type": "code",
      "metadata": {
        "id": "sn6pgHdi-xwB",
        "colab_type": "code",
        "colab": {}
      },
      "source": [
        "# 将已经设计好的模型进行 compile，compile 之后模型就不能改变了\n",
        "# 我们需要告诉模型我们用什么方法进行 weight update，以及如何衡量模型好坏\n",
        "model.compile(optimizer='rmsprop', # Algorithm for weight update ##第一种不好换adam(是一种算法)\n",
        "              loss='categorical_crossentropy', # Evaluation metric ## classification一定用这个 regression替换成 'mse'\n",
        "              metrics=['accuracy'])  # Evaluation metric for human only"
      ],
      "execution_count": 9,
      "outputs": []
    },
    {
      "cell_type": "markdown",
      "metadata": {
        "id": "CoHJAMs2-xwD",
        "colab_type": "text"
      },
      "source": [
        "### Preprocess the data"
      ]
    },
    {
      "cell_type": "code",
      "metadata": {
        "id": "Idbw0Hud-xwD",
        "colab_type": "code",
        "colab": {}
      },
      "source": [
        "from keras.utils import to_categorical\n",
        "\n",
        "# 将我们的 label 变成 one-hot encoding\n",
        "# 比如说我们的 label 一定是 4 种数据之一，那么\n",
        "# 0 -> [1, 0, 0, 0]\n",
        "# 1 -> [0, 1, 0, 0]\n",
        "# 2 -> [0, 0, 1, 0]\n",
        "# 3 -> [0, 0, 0, 1]\n",
        "# [0, 2] -> [1, 0, 1, 0] ...\n",
        "# 这样做的目的是方便我们的 model 进行 categorical prediction\n",
        "# 最终模型可以对各个 input 给出该 input 应该归为每个 label 的可能性\n",
        "y_train = to_categorical(y_train)\n",
        "y_test = to_categorical(y_test)"
      ],
      "execution_count": 10,
      "outputs": []
    },
    {
      "cell_type": "markdown",
      "metadata": {
        "id": "NTy9kOKS-xwF",
        "colab_type": "text"
      },
      "source": [
        "### Fit data"
      ]
    },
    {
      "cell_type": "code",
      "metadata": {
        "id": "Grdx5Zsr-xwG",
        "colab_type": "code",
        "colab": {
          "base_uri": "https://localhost:8080/",
          "height": 1000
        },
        "outputId": "e1f67708-cc34-4b29-a7b0-7ef1f02a136e"
      },
      "source": [
        "# 这个叫做 callbacks，指的是在模型进行 training 的时候，额外需要考虑的东西\n",
        "# 在这里我们增加一个可以让模型提前停止 training 的 callback -> EarlyStopping\n",
        "# 加这个 callback 可以让我们的模型在发现自己无法进一步减小 loss 的时候，\n",
        "# 自行停止训练（反正也没法变的更好了，就不浪费时间了）\n",
        "# monitor 表示我们希望监视哪个 metric 的变化\n",
        "# 模型的 metric 要至少减小 min_delta 这么多才算是有学到新的东西\n",
        "# patience 指的是当模型没有学习到的时候，要不要多等一会儿看看是不是只是\n",
        "# 运气不好导致的这次模型没有提升，如果连续 patience 这么多次都没学到新的东西就停\n",
        "# restore_best_weights 表示当我们提前停下来的时候，是不是使用 loss 最低的那次\n",
        "# 的 weight 作为最终结果\n",
        "\n",
        "# 如果报错请把 acc 改成 accuracy，后面同理（keras 版本问题）\n",
        "early_stop = keras.callbacks.EarlyStopping(monitor='acc',\n",
        "                                           min_delta=0.02, \n",
        "                                           patience=2,\n",
        "                                           restore_best_weights=True)\n",
        "# Train model\n",
        "# validation_data 只用来计算 metrics 的最终 score，不会用于 training\n",
        "# 这个 function 在对模型进行 training 的同时还会 return 所有的 metrics\n",
        "history = model.fit(x_train, y_train, \n",
        "                    batch_size=128, \n",
        "                    epochs=50, \n",
        "                    validation_data=(x_test, y_test),\n",
        "                    callbacks=[early_stop])"
      ],
      "execution_count": 11,
      "outputs": [
        {
          "output_type": "stream",
          "text": [
            "Epoch 1/50\n",
            "453/469 [===========================>..] - ETA: 0s - loss: 2.3142 - accuracy: 0.8017WARNING:tensorflow:Early stopping conditioned on metric `acc` which is not available. Available metrics are: loss,accuracy,val_loss,val_accuracy\n",
            "469/469 [==============================] - 2s 4ms/step - loss: 2.2542 - accuracy: 0.8048 - val_loss: 0.6269 - val_accuracy: 0.8738\n",
            "Epoch 2/50\n",
            "457/469 [============================>.] - ETA: 0s - loss: 0.4022 - accuracy: 0.9114WARNING:tensorflow:Early stopping conditioned on metric `acc` which is not available. Available metrics are: loss,accuracy,val_loss,val_accuracy\n",
            "469/469 [==============================] - 2s 3ms/step - loss: 0.4009 - accuracy: 0.9118 - val_loss: 0.3947 - val_accuracy: 0.9049\n",
            "Epoch 3/50\n",
            "458/469 [============================>.] - ETA: 0s - loss: 0.2713 - accuracy: 0.9356WARNING:tensorflow:Early stopping conditioned on metric `acc` which is not available. Available metrics are: loss,accuracy,val_loss,val_accuracy\n",
            "469/469 [==============================] - 2s 4ms/step - loss: 0.2699 - accuracy: 0.9358 - val_loss: 0.3055 - val_accuracy: 0.9354\n",
            "Epoch 4/50\n",
            "468/469 [============================>.] - ETA: 0s - loss: 0.2164 - accuracy: 0.9460WARNING:tensorflow:Early stopping conditioned on metric `acc` which is not available. Available metrics are: loss,accuracy,val_loss,val_accuracy\n",
            "469/469 [==============================] - 2s 3ms/step - loss: 0.2161 - accuracy: 0.9460 - val_loss: 0.2290 - val_accuracy: 0.9491\n",
            "Epoch 5/50\n",
            "457/469 [============================>.] - ETA: 0s - loss: 0.1810 - accuracy: 0.9552WARNING:tensorflow:Early stopping conditioned on metric `acc` which is not available. Available metrics are: loss,accuracy,val_loss,val_accuracy\n",
            "469/469 [==============================] - 2s 4ms/step - loss: 0.1817 - accuracy: 0.9550 - val_loss: 0.2471 - val_accuracy: 0.9502\n",
            "Epoch 6/50\n",
            "467/469 [============================>.] - ETA: 0s - loss: 0.1643 - accuracy: 0.9588WARNING:tensorflow:Early stopping conditioned on metric `acc` which is not available. Available metrics are: loss,accuracy,val_loss,val_accuracy\n",
            "469/469 [==============================] - 2s 3ms/step - loss: 0.1641 - accuracy: 0.9589 - val_loss: 0.2215 - val_accuracy: 0.9562\n",
            "Epoch 7/50\n",
            "460/469 [============================>.] - ETA: 0s - loss: 0.1515 - accuracy: 0.9629WARNING:tensorflow:Early stopping conditioned on metric `acc` which is not available. Available metrics are: loss,accuracy,val_loss,val_accuracy\n",
            "469/469 [==============================] - 2s 4ms/step - loss: 0.1522 - accuracy: 0.9628 - val_loss: 0.2401 - val_accuracy: 0.9482\n",
            "Epoch 8/50\n",
            "455/469 [============================>.] - ETA: 0s - loss: 0.1375 - accuracy: 0.9649WARNING:tensorflow:Early stopping conditioned on metric `acc` which is not available. Available metrics are: loss,accuracy,val_loss,val_accuracy\n",
            "469/469 [==============================] - 2s 3ms/step - loss: 0.1374 - accuracy: 0.9650 - val_loss: 0.2428 - val_accuracy: 0.9510\n",
            "Epoch 9/50\n",
            "462/469 [============================>.] - ETA: 0s - loss: 0.1337 - accuracy: 0.9676WARNING:tensorflow:Early stopping conditioned on metric `acc` which is not available. Available metrics are: loss,accuracy,val_loss,val_accuracy\n",
            "469/469 [==============================] - 1s 3ms/step - loss: 0.1343 - accuracy: 0.9674 - val_loss: 0.1977 - val_accuracy: 0.9594\n",
            "Epoch 10/50\n",
            "464/469 [============================>.] - ETA: 0s - loss: 0.1205 - accuracy: 0.9701WARNING:tensorflow:Early stopping conditioned on metric `acc` which is not available. Available metrics are: loss,accuracy,val_loss,val_accuracy\n",
            "469/469 [==============================] - 2s 4ms/step - loss: 0.1203 - accuracy: 0.9701 - val_loss: 0.2188 - val_accuracy: 0.9606\n",
            "Epoch 11/50\n",
            "454/469 [============================>.] - ETA: 0s - loss: 0.1116 - accuracy: 0.9713WARNING:tensorflow:Early stopping conditioned on metric `acc` which is not available. Available metrics are: loss,accuracy,val_loss,val_accuracy\n",
            "469/469 [==============================] - 2s 3ms/step - loss: 0.1115 - accuracy: 0.9713 - val_loss: 0.2201 - val_accuracy: 0.9609\n",
            "Epoch 12/50\n",
            "457/469 [============================>.] - ETA: 0s - loss: 0.1070 - accuracy: 0.9725WARNING:tensorflow:Early stopping conditioned on metric `acc` which is not available. Available metrics are: loss,accuracy,val_loss,val_accuracy\n",
            "469/469 [==============================] - 1s 3ms/step - loss: 0.1071 - accuracy: 0.9724 - val_loss: 0.2698 - val_accuracy: 0.9492\n",
            "Epoch 13/50\n",
            "461/469 [============================>.] - ETA: 0s - loss: 0.1055 - accuracy: 0.9732WARNING:tensorflow:Early stopping conditioned on metric `acc` which is not available. Available metrics are: loss,accuracy,val_loss,val_accuracy\n",
            "469/469 [==============================] - 2s 3ms/step - loss: 0.1050 - accuracy: 0.9733 - val_loss: 0.1935 - val_accuracy: 0.9654\n",
            "Epoch 14/50\n",
            "468/469 [============================>.] - ETA: 0s - loss: 0.0964 - accuracy: 0.9745WARNING:tensorflow:Early stopping conditioned on metric `acc` which is not available. Available metrics are: loss,accuracy,val_loss,val_accuracy\n",
            "469/469 [==============================] - 2s 3ms/step - loss: 0.0963 - accuracy: 0.9745 - val_loss: 0.2151 - val_accuracy: 0.9667\n",
            "Epoch 15/50\n",
            "456/469 [============================>.] - ETA: 0s - loss: 0.0900 - accuracy: 0.9762WARNING:tensorflow:Early stopping conditioned on metric `acc` which is not available. Available metrics are: loss,accuracy,val_loss,val_accuracy\n",
            "469/469 [==============================] - 2s 3ms/step - loss: 0.0903 - accuracy: 0.9762 - val_loss: 0.2279 - val_accuracy: 0.9660\n",
            "Epoch 16/50\n",
            "466/469 [============================>.] - ETA: 0s - loss: 0.0907 - accuracy: 0.9765WARNING:tensorflow:Early stopping conditioned on metric `acc` which is not available. Available metrics are: loss,accuracy,val_loss,val_accuracy\n",
            "469/469 [==============================] - 1s 3ms/step - loss: 0.0905 - accuracy: 0.9765 - val_loss: 0.2453 - val_accuracy: 0.9600\n",
            "Epoch 17/50\n",
            "460/469 [============================>.] - ETA: 0s - loss: 0.0850 - accuracy: 0.9774WARNING:tensorflow:Early stopping conditioned on metric `acc` which is not available. Available metrics are: loss,accuracy,val_loss,val_accuracy\n",
            "469/469 [==============================] - 2s 3ms/step - loss: 0.0856 - accuracy: 0.9774 - val_loss: 0.2137 - val_accuracy: 0.9662\n",
            "Epoch 18/50\n",
            "466/469 [============================>.] - ETA: 0s - loss: 0.0817 - accuracy: 0.9790WARNING:tensorflow:Early stopping conditioned on metric `acc` which is not available. Available metrics are: loss,accuracy,val_loss,val_accuracy\n",
            "469/469 [==============================] - 1s 3ms/step - loss: 0.0817 - accuracy: 0.9790 - val_loss: 0.2755 - val_accuracy: 0.9628\n",
            "Epoch 19/50\n",
            "468/469 [============================>.] - ETA: 0s - loss: 0.0770 - accuracy: 0.9793WARNING:tensorflow:Early stopping conditioned on metric `acc` which is not available. Available metrics are: loss,accuracy,val_loss,val_accuracy\n",
            "469/469 [==============================] - 2s 4ms/step - loss: 0.0770 - accuracy: 0.9793 - val_loss: 0.2454 - val_accuracy: 0.9605\n",
            "Epoch 20/50\n",
            "469/469 [==============================] - ETA: 0s - loss: 0.0785 - accuracy: 0.9800WARNING:tensorflow:Early stopping conditioned on metric `acc` which is not available. Available metrics are: loss,accuracy,val_loss,val_accuracy\n",
            "469/469 [==============================] - 2s 3ms/step - loss: 0.0785 - accuracy: 0.9800 - val_loss: 0.2460 - val_accuracy: 0.9658\n",
            "Epoch 21/50\n",
            "462/469 [============================>.] - ETA: 0s - loss: 0.0743 - accuracy: 0.9804WARNING:tensorflow:Early stopping conditioned on metric `acc` which is not available. Available metrics are: loss,accuracy,val_loss,val_accuracy\n",
            "469/469 [==============================] - 2s 4ms/step - loss: 0.0743 - accuracy: 0.9805 - val_loss: 0.2619 - val_accuracy: 0.9638\n",
            "Epoch 22/50\n",
            "457/469 [============================>.] - ETA: 0s - loss: 0.0719 - accuracy: 0.9813WARNING:tensorflow:Early stopping conditioned on metric `acc` which is not available. Available metrics are: loss,accuracy,val_loss,val_accuracy\n",
            "469/469 [==============================] - 2s 4ms/step - loss: 0.0719 - accuracy: 0.9813 - val_loss: 0.3022 - val_accuracy: 0.9599\n",
            "Epoch 23/50\n",
            "454/469 [============================>.] - ETA: 0s - loss: 0.0701 - accuracy: 0.9814WARNING:tensorflow:Early stopping conditioned on metric `acc` which is not available. Available metrics are: loss,accuracy,val_loss,val_accuracy\n",
            "469/469 [==============================] - 2s 4ms/step - loss: 0.0700 - accuracy: 0.9816 - val_loss: 0.2939 - val_accuracy: 0.9600\n",
            "Epoch 24/50\n",
            "459/469 [============================>.] - ETA: 0s - loss: 0.0696 - accuracy: 0.9821WARNING:tensorflow:Early stopping conditioned on metric `acc` which is not available. Available metrics are: loss,accuracy,val_loss,val_accuracy\n",
            "469/469 [==============================] - 2s 3ms/step - loss: 0.0691 - accuracy: 0.9822 - val_loss: 0.2814 - val_accuracy: 0.9689\n",
            "Epoch 25/50\n",
            "461/469 [============================>.] - ETA: 0s - loss: 0.0692 - accuracy: 0.9826WARNING:tensorflow:Early stopping conditioned on metric `acc` which is not available. Available metrics are: loss,accuracy,val_loss,val_accuracy\n",
            "469/469 [==============================] - 1s 3ms/step - loss: 0.0687 - accuracy: 0.9827 - val_loss: 0.3620 - val_accuracy: 0.9699\n",
            "Epoch 26/50\n",
            "462/469 [============================>.] - ETA: 0s - loss: 0.0692 - accuracy: 0.9830WARNING:tensorflow:Early stopping conditioned on metric `acc` which is not available. Available metrics are: loss,accuracy,val_loss,val_accuracy\n",
            "469/469 [==============================] - 2s 4ms/step - loss: 0.0690 - accuracy: 0.9830 - val_loss: 0.2817 - val_accuracy: 0.9666\n",
            "Epoch 27/50\n",
            "463/469 [============================>.] - ETA: 0s - loss: 0.0658 - accuracy: 0.9832WARNING:tensorflow:Early stopping conditioned on metric `acc` which is not available. Available metrics are: loss,accuracy,val_loss,val_accuracy\n",
            "469/469 [==============================] - 2s 4ms/step - loss: 0.0656 - accuracy: 0.9832 - val_loss: 0.3004 - val_accuracy: 0.9643\n",
            "Epoch 28/50\n",
            "469/469 [==============================] - ETA: 0s - loss: 0.0659 - accuracy: 0.9834WARNING:tensorflow:Early stopping conditioned on metric `acc` which is not available. Available metrics are: loss,accuracy,val_loss,val_accuracy\n",
            "469/469 [==============================] - 2s 4ms/step - loss: 0.0659 - accuracy: 0.9834 - val_loss: 0.2687 - val_accuracy: 0.9645\n",
            "Epoch 29/50\n",
            "462/469 [============================>.] - ETA: 0s - loss: 0.0662 - accuracy: 0.9834WARNING:tensorflow:Early stopping conditioned on metric `acc` which is not available. Available metrics are: loss,accuracy,val_loss,val_accuracy\n",
            "469/469 [==============================] - 1s 3ms/step - loss: 0.0666 - accuracy: 0.9834 - val_loss: 0.3602 - val_accuracy: 0.9618\n",
            "Epoch 30/50\n",
            "453/469 [===========================>..] - ETA: 0s - loss: 0.0609 - accuracy: 0.9840WARNING:tensorflow:Early stopping conditioned on metric `acc` which is not available. Available metrics are: loss,accuracy,val_loss,val_accuracy\n",
            "469/469 [==============================] - 2s 4ms/step - loss: 0.0621 - accuracy: 0.9838 - val_loss: 0.3325 - val_accuracy: 0.9662\n",
            "Epoch 31/50\n",
            "456/469 [============================>.] - ETA: 0s - loss: 0.0607 - accuracy: 0.9850WARNING:tensorflow:Early stopping conditioned on metric `acc` which is not available. Available metrics are: loss,accuracy,val_loss,val_accuracy\n",
            "469/469 [==============================] - 2s 3ms/step - loss: 0.0606 - accuracy: 0.9850 - val_loss: 0.3631 - val_accuracy: 0.9641\n",
            "Epoch 32/50\n",
            "453/469 [===========================>..] - ETA: 0s - loss: 0.0599 - accuracy: 0.9849WARNING:tensorflow:Early stopping conditioned on metric `acc` which is not available. Available metrics are: loss,accuracy,val_loss,val_accuracy\n",
            "469/469 [==============================] - 2s 3ms/step - loss: 0.0602 - accuracy: 0.9847 - val_loss: 0.3700 - val_accuracy: 0.9597\n",
            "Epoch 33/50\n",
            "462/469 [============================>.] - ETA: 0s - loss: 0.0567 - accuracy: 0.9860WARNING:tensorflow:Early stopping conditioned on metric `acc` which is not available. Available metrics are: loss,accuracy,val_loss,val_accuracy\n",
            "469/469 [==============================] - 2s 3ms/step - loss: 0.0563 - accuracy: 0.9861 - val_loss: 0.3757 - val_accuracy: 0.9664\n",
            "Epoch 34/50\n",
            "464/469 [============================>.] - ETA: 0s - loss: 0.0612 - accuracy: 0.9855WARNING:tensorflow:Early stopping conditioned on metric `acc` which is not available. Available metrics are: loss,accuracy,val_loss,val_accuracy\n",
            "469/469 [==============================] - 1s 3ms/step - loss: 0.0615 - accuracy: 0.9855 - val_loss: 0.4259 - val_accuracy: 0.9595\n",
            "Epoch 35/50\n",
            "461/469 [============================>.] - ETA: 0s - loss: 0.0621 - accuracy: 0.9857WARNING:tensorflow:Early stopping conditioned on metric `acc` which is not available. Available metrics are: loss,accuracy,val_loss,val_accuracy\n",
            "469/469 [==============================] - 2s 3ms/step - loss: 0.0618 - accuracy: 0.9858 - val_loss: 0.4241 - val_accuracy: 0.9648\n",
            "Epoch 36/50\n",
            "460/469 [============================>.] - ETA: 0s - loss: 0.0599 - accuracy: 0.9857WARNING:tensorflow:Early stopping conditioned on metric `acc` which is not available. Available metrics are: loss,accuracy,val_loss,val_accuracy\n",
            "469/469 [==============================] - 2s 3ms/step - loss: 0.0602 - accuracy: 0.9857 - val_loss: 0.4279 - val_accuracy: 0.9630\n",
            "Epoch 37/50\n",
            "458/469 [============================>.] - ETA: 0s - loss: 0.0590 - accuracy: 0.9871WARNING:tensorflow:Early stopping conditioned on metric `acc` which is not available. Available metrics are: loss,accuracy,val_loss,val_accuracy\n",
            "469/469 [==============================] - 1s 3ms/step - loss: 0.0587 - accuracy: 0.9872 - val_loss: 0.4399 - val_accuracy: 0.9661\n",
            "Epoch 38/50\n",
            "453/469 [===========================>..] - ETA: 0s - loss: 0.0575 - accuracy: 0.9867WARNING:tensorflow:Early stopping conditioned on metric `acc` which is not available. Available metrics are: loss,accuracy,val_loss,val_accuracy\n",
            "469/469 [==============================] - 1s 3ms/step - loss: 0.0573 - accuracy: 0.9868 - val_loss: 0.4735 - val_accuracy: 0.9658\n",
            "Epoch 39/50\n",
            "467/469 [============================>.] - ETA: 0s - loss: 0.0566 - accuracy: 0.9865WARNING:tensorflow:Early stopping conditioned on metric `acc` which is not available. Available metrics are: loss,accuracy,val_loss,val_accuracy\n",
            "469/469 [==============================] - 1s 3ms/step - loss: 0.0568 - accuracy: 0.9865 - val_loss: 0.4143 - val_accuracy: 0.9618\n",
            "Epoch 40/50\n",
            "458/469 [============================>.] - ETA: 0s - loss: 0.0546 - accuracy: 0.9875WARNING:tensorflow:Early stopping conditioned on metric `acc` which is not available. Available metrics are: loss,accuracy,val_loss,val_accuracy\n",
            "469/469 [==============================] - 2s 4ms/step - loss: 0.0547 - accuracy: 0.9875 - val_loss: 0.4493 - val_accuracy: 0.9673\n",
            "Epoch 41/50\n",
            "469/469 [==============================] - ETA: 0s - loss: 0.0531 - accuracy: 0.9876WARNING:tensorflow:Early stopping conditioned on metric `acc` which is not available. Available metrics are: loss,accuracy,val_loss,val_accuracy\n",
            "469/469 [==============================] - 2s 4ms/step - loss: 0.0531 - accuracy: 0.9876 - val_loss: 0.4614 - val_accuracy: 0.9642\n",
            "Epoch 42/50\n",
            "467/469 [============================>.] - ETA: 0s - loss: 0.0535 - accuracy: 0.9879WARNING:tensorflow:Early stopping conditioned on metric `acc` which is not available. Available metrics are: loss,accuracy,val_loss,val_accuracy\n",
            "469/469 [==============================] - 2s 4ms/step - loss: 0.0534 - accuracy: 0.9879 - val_loss: 0.4571 - val_accuracy: 0.9669\n",
            "Epoch 43/50\n",
            "463/469 [============================>.] - ETA: 0s - loss: 0.0506 - accuracy: 0.9882WARNING:tensorflow:Early stopping conditioned on metric `acc` which is not available. Available metrics are: loss,accuracy,val_loss,val_accuracy\n",
            "469/469 [==============================] - 2s 5ms/step - loss: 0.0503 - accuracy: 0.9882 - val_loss: 0.5295 - val_accuracy: 0.9616\n",
            "Epoch 44/50\n",
            "459/469 [============================>.] - ETA: 0s - loss: 0.0482 - accuracy: 0.9887WARNING:tensorflow:Early stopping conditioned on metric `acc` which is not available. Available metrics are: loss,accuracy,val_loss,val_accuracy\n",
            "469/469 [==============================] - 2s 4ms/step - loss: 0.0493 - accuracy: 0.9887 - val_loss: 0.4102 - val_accuracy: 0.9659\n",
            "Epoch 45/50\n",
            "454/469 [============================>.] - ETA: 0s - loss: 0.0510 - accuracy: 0.9888WARNING:tensorflow:Early stopping conditioned on metric `acc` which is not available. Available metrics are: loss,accuracy,val_loss,val_accuracy\n",
            "469/469 [==============================] - 2s 4ms/step - loss: 0.0521 - accuracy: 0.9888 - val_loss: 0.5445 - val_accuracy: 0.9616\n",
            "Epoch 46/50\n",
            "461/469 [============================>.] - ETA: 0s - loss: 0.0514 - accuracy: 0.9885WARNING:tensorflow:Early stopping conditioned on metric `acc` which is not available. Available metrics are: loss,accuracy,val_loss,val_accuracy\n",
            "469/469 [==============================] - 2s 4ms/step - loss: 0.0514 - accuracy: 0.9885 - val_loss: 0.5586 - val_accuracy: 0.9632\n",
            "Epoch 47/50\n",
            "467/469 [============================>.] - ETA: 0s - loss: 0.0501 - accuracy: 0.9886WARNING:tensorflow:Early stopping conditioned on metric `acc` which is not available. Available metrics are: loss,accuracy,val_loss,val_accuracy\n",
            "469/469 [==============================] - 2s 4ms/step - loss: 0.0505 - accuracy: 0.9886 - val_loss: 0.5784 - val_accuracy: 0.9647\n",
            "Epoch 48/50\n",
            "463/469 [============================>.] - ETA: 0s - loss: 0.0520 - accuracy: 0.9887WARNING:tensorflow:Early stopping conditioned on metric `acc` which is not available. Available metrics are: loss,accuracy,val_loss,val_accuracy\n",
            "469/469 [==============================] - 2s 4ms/step - loss: 0.0518 - accuracy: 0.9887 - val_loss: 0.5628 - val_accuracy: 0.9658\n",
            "Epoch 49/50\n",
            "466/469 [============================>.] - ETA: 0s - loss: 0.0536 - accuracy: 0.9887WARNING:tensorflow:Early stopping conditioned on metric `acc` which is not available. Available metrics are: loss,accuracy,val_loss,val_accuracy\n",
            "469/469 [==============================] - 2s 4ms/step - loss: 0.0536 - accuracy: 0.9887 - val_loss: 0.6486 - val_accuracy: 0.9622\n",
            "Epoch 50/50\n",
            "465/469 [============================>.] - ETA: 0s - loss: 0.0499 - accuracy: 0.9891WARNING:tensorflow:Early stopping conditioned on metric `acc` which is not available. Available metrics are: loss,accuracy,val_loss,val_accuracy\n",
            "469/469 [==============================] - 2s 4ms/step - loss: 0.0499 - accuracy: 0.9891 - val_loss: 0.5201 - val_accuracy: 0.9635\n"
          ],
          "name": "stdout"
        }
      ]
    },
    {
      "cell_type": "code",
      "metadata": {
        "id": "hAsrwb20-xwI",
        "colab_type": "code",
        "colab": {
          "base_uri": "https://localhost:8080/",
          "height": 295
        },
        "outputId": "c508791f-0736-4358-b31b-e0a33e9f0130"
      },
      "source": [
        "# 将 Training 过程中 training data accuracy 的变化 plot 出来\n",
        "plt.plot(history.history['accuracy'])\n",
        "# 将 Training 过程中 validation data accuracy 的变化 plot 出来\n",
        "plt.plot(history.history['val_accuracy'])\n",
        "# 给图片添加一个标题\n",
        "plt.title('model accuracy')\n",
        "# 给 x y 轴起一个名字\n",
        "plt.ylabel('accuracy')\n",
        "plt.xlabel('epoch')\n",
        "# 将图例显示在左上角\n",
        "plt.legend(['train', 'test'], loc='upper left')\n",
        "# 显示图片\n",
        "plt.show()"
      ],
      "execution_count": 14,
      "outputs": [
        {
          "output_type": "display_data",
          "data": {
            "image/png": "[encoded data removed]",
            "text/plain": [
              "<Figure size 432x288 with 1 Axes>"
            ]
          },
          "metadata": {
            "tags": [],
            "needs_background": "light"
          }
        }
      ]
    },
    {
      "cell_type": "markdown",
      "metadata": {
        "id": "I6VlM5Hg-xwJ",
        "colab_type": "text"
      },
      "source": [
        "### Evaluate the model"
      ]
    },
    {
      "cell_type": "code",
      "metadata": {
        "id": "Ae_MIwb7-xwK",
        "colab_type": "code",
        "colab": {
          "base_uri": "https://localhost:8080/",
          "height": 68
        },
        "outputId": "0e6d39e7-0dfc-444a-ac18-712ce83e6a05"
      },
      "source": [
        "# 利用我们的 test data set 进行测试\n",
        "score = model.evaluate(x_test, y_test)\n",
        "print('Test score:', score[0])\n",
        "print('Test accuracy:', score[1])"
      ],
      "execution_count": 15,
      "outputs": [
        {
          "output_type": "stream",
          "text": [
            "313/313 [==============================] - 0s 1ms/step - loss: 0.5201 - accuracy: 0.9635\n",
            "Test score: 0.5200732350349426\n",
            "Test accuracy: 0.9635000228881836\n"
          ],
          "name": "stdout"
        }
      ]
    },
    {
      "cell_type": "code",
      "metadata": {
        "id": "Uapoubia-xwL",
        "colab_type": "code",
        "colab": {}
      },
      "source": [
        "# argmax 之前是我们用模型对 test input data 进行测试\n",
        "# argmax 是把 one-hot encoded 的结果变成实际的数字\n",
        "# argmax([0.2, 0.4, 2.3, 1.2]) -> 2，因为 2.3 最大\n",
        "y_pred = model.predict(x_test).argmax(axis=1)"
      ],
      "execution_count": 16,
      "outputs": []
    },
    {
      "cell_type": "code",
      "metadata": {
        "id": "smth3jJH-xwN",
        "colab_type": "code",
        "colab": {
          "base_uri": "https://localhost:8080/",
          "height": 1000
        },
        "outputId": "481e8e08-6ca4-4237-ec7c-bcbcd88f7742"
      },
      "source": [
        "# 随机取出 20 个 test image，查看实际手写数字和预测手写数字\n",
        "for _ in range(20):\n",
        "    # 随机取一个 test input 的位置\n",
        "    choose = np.random.randint(x_test.shape[0])\n",
        "    # 将这个 test input 的图片显示出来\n",
        "    plt.imshow(x_test[choose], cmap='gray')\n",
        "    plt.show()\n",
        "    # 将预测值和实际值显示出来\n",
        "    print(f\"Prediction: {y_pred[choose]}, Actual: {y_test[choose].argmax()}\")"
      ],
      "execution_count": 17,
      "outputs": [
        {
          "output_type": "display_data",
          "data": {
            "image/png": "[encoded data removed]",
            "text/plain": [
              "<Figure size 432x288 with 1 Axes>"
            ]
          },
          "metadata": {
            "tags": [],
            "needs_background": "light"
          }
        },
        {
          "output_type": "stream",
          "text": [
            "Prediction: 0, Actual: 0\n"
          ],
          "name": "stdout"
        },
        {
          "output_type": "display_data",
          "data": {
            "image/png": "[encoded data removed]",
            "text/plain": [
              "<Figure size 432x288 with 1 Axes>"
            ]
          },
          "metadata": {
            "tags": [],
            "needs_background": "light"
          }
        },
        {
          "output_type": "stream",
          "text": [
            "Prediction: 1, Actual: 1\n"
          ],
          "name": "stdout"
        },
        {
          "output_type": "display_data",
          "data": {
            "image/png": "[encoded data removed]",
            "text/plain": [
              "<Figure size 432x288 with 1 Axes>"
            ]
          },
          "metadata": {
            "tags": [],
            "needs_background": "light"
          }
        },
        {
          "output_type": "stream",
          "text": [
            "Prediction: 9, Actual: 9\n"
          ],
          "name": "stdout"
        },
        {
          "output_type": "display_data",
          "data": {
            "image/png": "[encoded data removed]",
            "text/plain": [
              "<Figure size 432x288 with 1 Axes>"
            ]
          },
          "metadata": {
            "tags": [],
            "needs_background": "light"
          }
        },
        {
          "output_type": "stream",
          "text": [
            "Prediction: 6, Actual: 6\n"
          ],
          "name": "stdout"
        },
        {
          "output_type": "display_data",
          "data": {
            "image/png": "[encoded data removed]",
            "text/plain": [
              "<Figure size 432x288 with 1 Axes>"
            ]
          },
          "metadata": {
            "tags": [],
            "needs_background": "light"
          }
        },
        {
          "output_type": "stream",
          "text": [
            "Prediction: 7, Actual: 7\n"
          ],
          "name": "stdout"
        },
        {
          "output_type": "display_data",
          "data": {
            "image/png": "[encoded data removed]",
            "text/plain": [
              "<Figure size 432x288 with 1 Axes>"
            ]
          },
          "metadata": {
            "tags": [],
            "needs_background": "light"
          }
        },
        {
          "output_type": "stream",
          "text": [
            "Prediction: 2, Actual: 2\n"
          ],
          "name": "stdout"
        },
        {
          "output_type": "display_data",
          "data": {
            "image/png": "[encoded data removed]",
            "text/plain": [
              "<Figure size 432x288 with 1 Axes>"
            ]
          },
          "metadata": {
            "tags": [],
            "needs_background": "light"
          }
        },
        {
          "output_type": "stream",
          "text": [
            "Prediction: 1, Actual: 1\n"
          ],
          "name": "stdout"
        },
        {
          "output_type": "display_data",
          "data": {
            "image/png": "[encoded data removed]",
            "text/plain": [
              "<Figure size 432x288 with 1 Axes>"
            ]
          },
          "metadata": {
            "tags": [],
            "needs_background": "light"
          }
        },
        {
          "output_type": "stream",
          "text": [
            "Prediction: 9, Actual: 9\n"
          ],
          "name": "stdout"
        },
        {
          "output_type": "display_data",
          "data": {
            "image/png": "[encoded data removed]",
            "text/plain": [
              "<Figure size 432x288 with 1 Axes>"
            ]
          },
          "metadata": {
            "tags": [],
            "needs_background": "light"
          }
        },
        {
          "output_type": "stream",
          "text": [
            "Prediction: 3, Actual: 3\n"
          ],
          "name": "stdout"
        },
        {
          "output_type": "display_data",
          "data": {
            "image/png": "[encoded data removed]",
            "text/plain": [
              "<Figure size 432x288 with 1 Axes>"
            ]
          },
          "metadata": {
            "tags": [],
            "needs_background": "light"
          }
        },
        {
          "output_type": "stream",
          "text": [
            "Prediction: 4, Actual: 4\n"
          ],
          "name": "stdout"
        },
        {
          "output_type": "display_data",
          "data": {
            "image/png": "[encoded data removed]",
            "text/plain": [
              "<Figure size 432x288 with 1 Axes>"
            ]
          },
          "metadata": {
            "tags": [],
            "needs_background": "light"
          }
        },
        {
          "output_type": "stream",
          "text": [
            "Prediction: 9, Actual: 9\n"
          ],
          "name": "stdout"
        },
        {
          "output_type": "display_data",
          "data": {
            "image/png": "[encoded data removed]",
            "text/plain": [
              "<Figure size 432x288 with 1 Axes>"
            ]
          },
          "metadata": {
            "tags": [],
            "needs_background": "light"
          }
        },
        {
          "output_type": "stream",
          "text": [
            "Prediction: 8, Actual: 8\n"
          ],
          "name": "stdout"
        },
        {
          "output_type": "display_data",
          "data": {
            "image/png": "[encoded data removed]",
            "text/plain": [
              "<Figure size 432x288 with 1 Axes>"
            ]
          },
          "metadata": {
            "tags": [],
            "needs_background": "light"
          }
        },
        {
          "output_type": "stream",
          "text": [
            "Prediction: 9, Actual: 9\n"
          ],
          "name": "stdout"
        },
        {
          "output_type": "display_data",
          "data": {
            "image/png": "[encoded data removed]",
            "text/plain": [
              "<Figure size 432x288 with 1 Axes>"
            ]
          },
          "metadata": {
            "tags": [],
            "needs_background": "light"
          }
        },
        {
          "output_type": "stream",
          "text": [
            "Prediction: 2, Actual: 2\n"
          ],
          "name": "stdout"
        },
        {
          "output_type": "display_data",
          "data": {
            "image/png": "[encoded data removed]",
            "text/plain": [
              "<Figure size 432x288 with 1 Axes>"
            ]
          },
          "metadata": {
            "tags": [],
            "needs_background": "light"
          }
        },
        {
          "output_type": "stream",
          "text": [
            "Prediction: 6, Actual: 6\n"
          ],
          "name": "stdout"
        },
        {
          "output_type": "display_data",
          "data": {
            "image/png": "[encoded data removed]",
            "text/plain": [
              "<Figure size 432x288 with 1 Axes>"
            ]
          },
          "metadata": {
            "tags": [],
            "needs_background": "light"
          }
        },
        {
          "output_type": "stream",
          "text": [
            "Prediction: 6, Actual: 6\n"
          ],
          "name": "stdout"
        },
        {
          "output_type": "display_data",
          "data": {
            "image/png": "[encoded data removed]",
            "text/plain": [
              "<Figure size 432x288 with 1 Axes>"
            ]
          },
          "metadata": {
            "tags": [],
            "needs_background": "light"
          }
        },
        {
          "output_type": "stream",
          "text": [
            "Prediction: 8, Actual: 8\n"
          ],
          "name": "stdout"
        },
        {
          "output_type": "display_data",
          "data": {
            "image/png": "[encoded data removed]",
            "text/plain": [
              "<Figure size 432x288 with 1 Axes>"
            ]
          },
          "metadata": {
            "tags": [],
            "needs_background": "light"
          }
        },
        {
          "output_type": "stream",
          "text": [
            "Prediction: 3, Actual: 3\n"
          ],
          "name": "stdout"
        },
        {
          "output_type": "display_data",
          "data": {
            "image/png": "[encoded data removed]",
            "text/plain": [
              "<Figure size 432x288 with 1 Axes>"
            ]
          },
          "metadata": {
            "tags": [],
            "needs_background": "light"
          }
        },
        {
          "output_type": "stream",
          "text": [
            "Prediction: 8, Actual: 8\n"
          ],
          "name": "stdout"
        },
        {
          "output_type": "display_data",
          "data": {
            "image/png": "[encoded data removed]",
            "text/plain": [
              "<Figure size 432x288 with 1 Axes>"
            ]
          },
          "metadata": {
            "tags": [],
            "needs_background": "light"
          }
        },
        {
          "output_type": "stream",
          "text": [
            "Prediction: 0, Actual: 0\n"
          ],
          "name": "stdout"
        }
      ]
    },
    {
      "cell_type": "code",
      "metadata": {
        "id": "1cZzbri1G4eS",
        "colab_type": "code",
        "colab": {}
      },
      "source": [
        ""
      ],
      "execution_count": null,
      "outputs": []
    }
  ]
}