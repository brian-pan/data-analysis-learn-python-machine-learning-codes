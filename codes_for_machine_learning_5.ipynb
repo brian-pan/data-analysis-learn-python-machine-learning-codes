{
  "nbformat": 4,
  "nbformat_minor": 0,
  "metadata": {
    "kernelspec": {
      "display_name": "Python 3",
      "language": "python",
      "name": "python3"
    },
    "language_info": {
      "codemirror_mode": {
        "name": "ipython",
        "version": 3
      },
      "file_extension": ".py",
      "mimetype": "text/x-python",
      "name": "python",
      "nbconvert_exporter": "python",
      "pygments_lexer": "ipython3",
      "version": "3.7.4"
    },
    "colab": {
      "name": "codes_for_machine_learning_5.ipynb",
      "provenance": [],
      "collapsed_sections": []
    }
  },
  "cells": [
    {
      "cell_type": "markdown",
      "metadata": {
        "id": "wddxxSzpfhIc",
        "colab_type": "text"
      },
      "source": [
        "## Play with different filters\n",
        "\n",
        "skimage 是一个专门用于图像处理的 module"
      ]
    },
    {
      "cell_type": "code",
      "metadata": {
        "id": "CRPbxgGNgkNw",
        "colab_type": "code",
        "colab": {
          "base_uri": "https://localhost:8080/",
          "height": 1000
        },
        "outputId": "ea5f8431-abbb-489a-bb2e-85b9a8c0e6e7"
      },
      "source": [
        "# download some images\n",
        "!wget https://raw.githubusercontent.com/skyu0221/online-dropbox/master/ml/img/Img_060.jpg\n",
        "!wget https://raw.githubusercontent.com/skyu0221/online-dropbox/master/ml/img/damage_cameraman.png\n",
        "!wget https://raw.githubusercontent.com/skyu0221/online-dropbox/master/ml/img/damage_mask.png\n",
        "!wget https://raw.githubusercontent.com/skyu0221/online-dropbox/master/ml/img/ex2.jpg\n",
        "!wget https://raw.githubusercontent.com/skyu0221/online-dropbox/master/ml/img/moon.png\n",
        "!wget https://raw.githubusercontent.com/skyu0221/online-dropbox/master/ml/img/noisy.jpg"
      ],
      "execution_count": 1,
      "outputs": [
        {
          "output_type": "stream",
          "text": [
            "--2020-08-06 16:02:42--  https://raw.githubusercontent.com/skyu0221/online-dropbox/master/ml/img/Img_060.jpg\n",
            "Resolving raw.githubusercontent.com (raw.githubusercontent.com)... 151.101.0.133, 151.101.64.133, 151.101.128.133, ...\n",
            "Connecting to raw.githubusercontent.com (raw.githubusercontent.com)|151.101.0.133|:443... connected.\n",
            "HTTP request sent, awaiting response... 200 OK\n",
            "Length: 16202 (16K) [image/jpeg]\n",
            "Saving to: ‘Img_060.jpg’\n",
            "\n",
            "\rImg_060.jpg           0%[                    ]       0  --.-KB/s               \rImg_060.jpg         100%[===================>]  15.82K  --.-KB/s    in 0.01s   \n",
            "\n",
            "2020-08-06 16:02:42 (1.30 MB/s) - ‘Img_060.jpg’ saved [16202/16202]\n",
            "\n",
            "--2020-08-06 16:02:43--  https://raw.githubusercontent.com/skyu0221/online-dropbox/master/ml/img/damage_cameraman.png\n",
            "Resolving raw.githubusercontent.com (raw.githubusercontent.com)... 151.101.0.133, 151.101.64.133, 151.101.128.133, ...\n",
            "Connecting to raw.githubusercontent.com (raw.githubusercontent.com)|151.101.0.133|:443... connected.\n",
            "HTTP request sent, awaiting response... 200 OK\n",
            "Length: 41513 (41K) [image/png]\n",
            "Saving to: ‘damage_cameraman.png’\n",
            "\n",
            "damage_cameraman.pn 100%[===================>]  40.54K  --.-KB/s    in 0.02s   \n",
            "\n",
            "2020-08-06 16:02:43 (2.62 MB/s) - ‘damage_cameraman.png’ saved [41513/41513]\n",
            "\n",
            "--2020-08-06 16:02:44--  https://raw.githubusercontent.com/skyu0221/online-dropbox/master/ml/img/damage_mask.png\n",
            "Resolving raw.githubusercontent.com (raw.githubusercontent.com)... 151.101.0.133, 151.101.64.133, 151.101.128.133, ...\n",
            "Connecting to raw.githubusercontent.com (raw.githubusercontent.com)|151.101.0.133|:443... connected.\n",
            "HTTP request sent, awaiting response... 200 OK\n",
            "Length: 1312 (1.3K) [image/png]\n",
            "Saving to: ‘damage_mask.png’\n",
            "\n",
            "damage_mask.png     100%[===================>]   1.28K  --.-KB/s    in 0s      \n",
            "\n",
            "2020-08-06 16:02:44 (61.4 MB/s) - ‘damage_mask.png’ saved [1312/1312]\n",
            "\n",
            "--2020-08-06 16:02:45--  https://raw.githubusercontent.com/skyu0221/online-dropbox/master/ml/img/ex2.jpg\n",
            "Resolving raw.githubusercontent.com (raw.githubusercontent.com)... 151.101.0.133, 151.101.64.133, 151.101.128.133, ...\n",
            "Connecting to raw.githubusercontent.com (raw.githubusercontent.com)|151.101.0.133|:443... connected.\n",
            "HTTP request sent, awaiting response... 200 OK\n",
            "Length: 182909 (179K) [image/jpeg]\n",
            "Saving to: ‘ex2.jpg’\n",
            "\n",
            "ex2.jpg             100%[===================>] 178.62K  --.-KB/s    in 0.04s   \n",
            "\n",
            "2020-08-06 16:02:45 (4.00 MB/s) - ‘ex2.jpg’ saved [182909/182909]\n",
            "\n",
            "--2020-08-06 16:02:46--  https://raw.githubusercontent.com/skyu0221/online-dropbox/master/ml/img/moon.png\n",
            "Resolving raw.githubusercontent.com (raw.githubusercontent.com)... 151.101.0.133, 151.101.64.133, 151.101.128.133, ...\n",
            "Connecting to raw.githubusercontent.com (raw.githubusercontent.com)|151.101.0.133|:443... connected.\n",
            "HTTP request sent, awaiting response... 200 OK\n",
            "Length: 85365 (83K) [image/png]\n",
            "Saving to: ‘moon.png’\n",
            "\n",
            "moon.png            100%[===================>]  83.36K  --.-KB/s    in 0.03s   \n",
            "\n",
            "2020-08-06 16:02:46 (2.76 MB/s) - ‘moon.png’ saved [85365/85365]\n",
            "\n",
            "--2020-08-06 16:02:47--  https://raw.githubusercontent.com/skyu0221/online-dropbox/master/ml/img/noisy.jpg\n",
            "Resolving raw.githubusercontent.com (raw.githubusercontent.com)... 151.101.0.133, 151.101.64.133, 151.101.128.133, ...\n",
            "Connecting to raw.githubusercontent.com (raw.githubusercontent.com)|151.101.0.133|:443... connected.\n",
            "HTTP request sent, awaiting response... 200 OK\n",
            "Length: 26295 (26K) [image/jpeg]\n",
            "Saving to: ‘noisy.jpg’\n",
            "\n",
            "noisy.jpg           100%[===================>]  25.68K  --.-KB/s    in 0.01s   \n",
            "\n",
            "2020-08-06 16:02:47 (2.02 MB/s) - ‘noisy.jpg’ saved [26295/26295]\n",
            "\n"
          ],
          "name": "stdout"
        }
      ]
    },
    {
      "cell_type": "code",
      "metadata": {
        "id": "8cU_wf5ygpB1",
        "colab_type": "code",
        "colab": {}
      },
      "source": [
        "from skimage import io, img_as_ubyte, filters\n",
        "import matplotlib.pyplot as plt\n",
        "import numpy as np\n",
        "from scipy.signal import convolve2d\n",
        "plt.style.use('ggplot')"
      ],
      "execution_count": 2,
      "outputs": []
    },
    {
      "cell_type": "code",
      "metadata": {
        "id": "9ygrOC2ogvLq",
        "colab_type": "code",
        "colab": {}
      },
      "source": [
        ""
      ],
      "execution_count": null,
      "outputs": []
    }
  ]
}