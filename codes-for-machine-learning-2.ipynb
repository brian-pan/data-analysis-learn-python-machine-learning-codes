{
 "cells": [
  {
   "cell_type": "markdown",
   "metadata": {},
   "source": [
    "# Practice multiple different classification algorithms\n",
    "\n",
    "### Models:\n",
    "\n",
    "+ Linear Discriminant Analysis (LDA)\n",
    "    + `from sklearn.discriminant_analysis import LinearDiscriminantAnalysis`\n",
    "+ Logistic Regression (LR)\n",
    "    + `from sklearn.linear_model import LogisticRegression`\n",
    "+ Naive Bayes classifier\n",
    "    + `from sklearn.naive_bayes import GaussianNB`\n",
    "+ Support Vector Machines (SVM)\n",
    "    + `from sklearn.svm import SVC`\n",
    "+ k-Nearest Neighbors (kNN)\n",
    "    + `from sklearn.neighbors import KNeighborsClassifier`\n",
    "+ Decision Tree (DT)\n",
    "    + `from sklearn.tree import DecisionTreeClassifier`\n"
   ]
  },
  {
   "cell_type": "code",
   "execution_count": 1,
   "metadata": {},
   "outputs": [],
   "source": [
    "import numpy as np\n",
    "import matplotlib.pyplot as plt\n",
    "from sklearn.datasets import make_moons, make_circles, make_classification\n",
    "from sklearn.preprocessing import StandardScaler\n",
    "from sklearn.model_selection import train_test_split"
   ]
  }
 ],
 "metadata": {
  "kernelspec": {
   "display_name": "Python 3",
   "language": "python",
   "name": "python3"
  },
  "language_info": {
   "codemirror_mode": {
    "name": "ipython",
    "version": 3
   },
   "file_extension": ".py",
   "mimetype": "text/x-python",
   "name": "python",
   "nbconvert_exporter": "python",
   "pygments_lexer": "ipython3",
   "version": "3.7.4"
  }
 },
 "nbformat": 4,
 "nbformat_minor": 2
}
